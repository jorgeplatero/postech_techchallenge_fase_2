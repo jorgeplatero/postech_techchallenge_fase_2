{
 "cells": [
  {
   "cell_type": "markdown",
   "metadata": {},
   "source": [
    "# O PROBLEMA\n",
    "\n",
    "Imagine que você foi escalado para um time de investimentos e precisará realizar um modelo preditivo com dados do IBOVESPA (Bolsa de Valores) para criar uma série temporal e prever diariamente o fechamento da base.\n",
    "\n",
    "Para isso, utilize a base de dados contida no site da investing e selecione o período 'diário', com intervalo de tempo que achar adequado.\n",
    "\n",
    "Você precisará demonstrar para o time de investimentos:\n",
    "\n",
    "1. O modelo com storytelling, desde a captura do dado até a entrega do modelo;\n",
    "2. Justificar a técnica utilizada;\n",
    "3. Atingir uma acurácia adequada (acima de 70%).\n",
    "\n",
    "Dica: utilize o maior intervalo de tempo possível para atingir maior acurácia no modelo preditivo.\n",
    "\n",
    "Fonte: https://br.investing.com/indices/bovespa-historical-data"
   ]
  },
  {
   "cell_type": "code",
   "execution_count": null,
   "metadata": {},
   "outputs": [],
   "source": []
  },
  {
   "cell_type": "code",
   "execution_count": null,
   "metadata": {},
   "outputs": [],
   "source": []
  },
  {
   "cell_type": "code",
   "execution_count": null,
   "metadata": {},
   "outputs": [],
   "source": []
  },
  {
   "cell_type": "code",
   "execution_count": null,
   "metadata": {},
   "outputs": [],
   "source": []
  },
  {
   "cell_type": "code",
   "execution_count": null,
   "metadata": {},
   "outputs": [],
   "source": []
  },
  {
   "cell_type": "code",
   "execution_count": null,
   "metadata": {},
   "outputs": [],
   "source": []
  }
 ],
 "metadata": {
  "language_info": {
   "name": "python"
  },
  "orig_nbformat": 4
 },
 "nbformat": 4,
 "nbformat_minor": 2
}

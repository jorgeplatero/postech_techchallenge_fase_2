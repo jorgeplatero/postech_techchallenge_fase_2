{
 "cells": [
  {
   "cell_type": "markdown",
   "metadata": {},
   "source": [
    "# O PROBLEMA\n",
    "\n",
    "Imagine que você foi escalado para um time de investimentos e precisará realizar um modelo preditivo com dados do IBOVESPA (Bolsa de Valores) para criar uma série temporal e prever diariamente o fechamento da base.\n",
    "\n",
    "Para isso, utilize a base de dados contida no site da investing e selecione o período 'diário', com intervalo de tempo que achar adequado.\n",
    "\n",
    "Você precisará demonstrar para o time de investimentos:\n",
    "\n",
    "1. O modelo com storytelling, desde a captura do dado até a entrega do modelo;\n",
    "2. Justificar a técnica utilizada;\n",
    "3. Atingir uma acurácia adequada (acima de 70%).\n",
    "\n",
    "Dica: utilize o maior intervalo de tempo possível para atingir maior acurácia no modelo preditivo.\n",
    "\n",
    "Fonte: https://br.investing.com/indices/bovespa-historical-data"
   ]
  },
  {
   "cell_type": "markdown",
   "metadata": {},
   "source": [
    "## Importando bibliotecas"
   ]
  },
  {
   "cell_type": "code",
   "execution_count": 227,
   "metadata": {},
   "outputs": [],
   "source": [
    "import warnings \n",
    "warnings.filterwarnings(action = 'ignore')"
   ]
  },
  {
   "cell_type": "code",
   "execution_count": 228,
   "metadata": {},
   "outputs": [],
   "source": [
    "import pandas as pd\n",
    "import numpy as np\n",
    "import matplotlib.pyplot as plt"
   ]
  },
  {
   "cell_type": "markdown",
   "metadata": {},
   "source": [
    "## Importando dados"
   ]
  },
  {
   "cell_type": "code",
   "execution_count": 229,
   "metadata": {},
   "outputs": [],
   "source": [
    "df = pd.read_csv('Dados Históricos - Ibovespa.csv')"
   ]
  },
  {
   "cell_type": "code",
   "execution_count": 230,
   "metadata": {},
   "outputs": [
    {
     "name": "stdout",
     "output_type": "stream",
     "text": [
      "<class 'pandas.core.frame.DataFrame'>\n",
      "RangeIndex: 2478 entries, 0 to 2477\n",
      "Data columns (total 7 columns):\n",
      " #   Column    Non-Null Count  Dtype  \n",
      "---  ------    --------------  -----  \n",
      " 0   Data      2478 non-null   object \n",
      " 1   Último    2478 non-null   float64\n",
      " 2   Abertura  2478 non-null   float64\n",
      " 3   Máxima    2478 non-null   float64\n",
      " 4   Mínima    2478 non-null   float64\n",
      " 5   Vol.      2477 non-null   object \n",
      " 6   Var%      2478 non-null   object \n",
      "dtypes: float64(4), object(3)\n",
      "memory usage: 135.6+ KB\n"
     ]
    }
   ],
   "source": [
    "df.info()"
   ]
  },
  {
   "cell_type": "code",
   "execution_count": 231,
   "metadata": {},
   "outputs": [
    {
     "data": {
      "text/html": [
       "<div>\n",
       "<style scoped>\n",
       "    .dataframe tbody tr th:only-of-type {\n",
       "        vertical-align: middle;\n",
       "    }\n",
       "\n",
       "    .dataframe tbody tr th {\n",
       "        vertical-align: top;\n",
       "    }\n",
       "\n",
       "    .dataframe thead th {\n",
       "        text-align: right;\n",
       "    }\n",
       "</style>\n",
       "<table border=\"1\" class=\"dataframe\">\n",
       "  <thead>\n",
       "    <tr style=\"text-align: right;\">\n",
       "      <th></th>\n",
       "      <th>Data</th>\n",
       "      <th>Último</th>\n",
       "      <th>Abertura</th>\n",
       "      <th>Máxima</th>\n",
       "      <th>Mínima</th>\n",
       "      <th>Vol.</th>\n",
       "      <th>Var%</th>\n",
       "    </tr>\n",
       "  </thead>\n",
       "  <tbody>\n",
       "    <tr>\n",
       "      <th>0</th>\n",
       "      <td>08.08.2023</td>\n",
       "      <td>119.090</td>\n",
       "      <td>119.378</td>\n",
       "      <td>119.553</td>\n",
       "      <td>117.492</td>\n",
       "      <td>10,25M</td>\n",
       "      <td>-0,24%</td>\n",
       "    </tr>\n",
       "    <tr>\n",
       "      <th>1</th>\n",
       "      <td>07.08.2023</td>\n",
       "      <td>119.380</td>\n",
       "      <td>119.509</td>\n",
       "      <td>120.104</td>\n",
       "      <td>118.894</td>\n",
       "      <td>8,73M</td>\n",
       "      <td>-0,11%</td>\n",
       "    </tr>\n",
       "    <tr>\n",
       "      <th>2</th>\n",
       "      <td>04.08.2023</td>\n",
       "      <td>119.508</td>\n",
       "      <td>120.586</td>\n",
       "      <td>121.442</td>\n",
       "      <td>119.215</td>\n",
       "      <td>15,07M</td>\n",
       "      <td>-0,89%</td>\n",
       "    </tr>\n",
       "    <tr>\n",
       "      <th>3</th>\n",
       "      <td>03.08.2023</td>\n",
       "      <td>120.586</td>\n",
       "      <td>120.859</td>\n",
       "      <td>122.619</td>\n",
       "      <td>120.365</td>\n",
       "      <td>13,03M</td>\n",
       "      <td>-0,23%</td>\n",
       "    </tr>\n",
       "    <tr>\n",
       "      <th>4</th>\n",
       "      <td>02.08.2023</td>\n",
       "      <td>120.859</td>\n",
       "      <td>121.249</td>\n",
       "      <td>121.252</td>\n",
       "      <td>119.798</td>\n",
       "      <td>10,57M</td>\n",
       "      <td>-0,32%</td>\n",
       "    </tr>\n",
       "  </tbody>\n",
       "</table>\n",
       "</div>"
      ],
      "text/plain": [
       "         Data   Último  Abertura   Máxima   Mínima    Vol.    Var%\n",
       "0  08.08.2023  119.090   119.378  119.553  117.492  10,25M  -0,24%\n",
       "1  07.08.2023  119.380   119.509  120.104  118.894   8,73M  -0,11%\n",
       "2  04.08.2023  119.508   120.586  121.442  119.215  15,07M  -0,89%\n",
       "3  03.08.2023  120.586   120.859  122.619  120.365  13,03M  -0,23%\n",
       "4  02.08.2023  120.859   121.249  121.252  119.798  10,57M  -0,32%"
      ]
     },
     "execution_count": 231,
     "metadata": {},
     "output_type": "execute_result"
    }
   ],
   "source": [
    "df.head()"
   ]
  },
  {
   "cell_type": "markdown",
   "metadata": {},
   "source": [
    "## Tratamento de dados"
   ]
  },
  {
   "cell_type": "code",
   "execution_count": 232,
   "metadata": {},
   "outputs": [
    {
     "data": {
      "text/plain": [
       "Data        0\n",
       "Último      0\n",
       "Abertura    0\n",
       "Máxima      0\n",
       "Mínima      0\n",
       "Vol.        1\n",
       "Var%        0\n",
       "dtype: int64"
      ]
     },
     "execution_count": 232,
     "metadata": {},
     "output_type": "execute_result"
    }
   ],
   "source": [
    "#verificando ocorrência de dados nulos\n",
    "df.isna().sum()"
   ]
  },
  {
   "cell_type": "code",
   "execution_count": 233,
   "metadata": {},
   "outputs": [
    {
     "data": {
      "text/html": [
       "<div>\n",
       "<style scoped>\n",
       "    .dataframe tbody tr th:only-of-type {\n",
       "        vertical-align: middle;\n",
       "    }\n",
       "\n",
       "    .dataframe tbody tr th {\n",
       "        vertical-align: top;\n",
       "    }\n",
       "\n",
       "    .dataframe thead th {\n",
       "        text-align: right;\n",
       "    }\n",
       "</style>\n",
       "<table border=\"1\" class=\"dataframe\">\n",
       "  <thead>\n",
       "    <tr style=\"text-align: right;\">\n",
       "      <th></th>\n",
       "      <th>Data</th>\n",
       "      <th>Último</th>\n",
       "      <th>Abertura</th>\n",
       "      <th>Máxima</th>\n",
       "      <th>Mínima</th>\n",
       "      <th>Vol.</th>\n",
       "      <th>Var%</th>\n",
       "    </tr>\n",
       "  </thead>\n",
       "  <tbody>\n",
       "    <tr>\n",
       "      <th>1860</th>\n",
       "      <td>10.02.2016</td>\n",
       "      <td>40.377</td>\n",
       "      <td>40.592</td>\n",
       "      <td>40.592</td>\n",
       "      <td>39.96</td>\n",
       "      <td>NaN</td>\n",
       "      <td>-0,53%</td>\n",
       "    </tr>\n",
       "  </tbody>\n",
       "</table>\n",
       "</div>"
      ],
      "text/plain": [
       "            Data  Último  Abertura  Máxima  Mínima Vol.    Var%\n",
       "1860  10.02.2016  40.377    40.592  40.592   39.96  NaN  -0,53%"
      ]
     },
     "execution_count": 233,
     "metadata": {},
     "output_type": "execute_result"
    }
   ],
   "source": [
    "df[df['Vol.'].isnull()]"
   ]
  },
  {
   "cell_type": "code",
   "execution_count": 234,
   "metadata": {},
   "outputs": [
    {
     "data": {
      "text/plain": [
       "Data        0\n",
       "Último      0\n",
       "Abertura    0\n",
       "Máxima      0\n",
       "Mínima      0\n",
       "Vol.        0\n",
       "Var%        0\n",
       "dtype: int64"
      ]
     },
     "execution_count": 234,
     "metadata": {},
     "output_type": "execute_result"
    }
   ],
   "source": [
    "df.drop(1860, inplace = True)\n",
    "df.isna().sum()"
   ]
  },
  {
   "cell_type": "code",
   "execution_count": 235,
   "metadata": {},
   "outputs": [
    {
     "data": {
      "text/plain": [
       "0"
      ]
     },
     "execution_count": 235,
     "metadata": {},
     "output_type": "execute_result"
    }
   ],
   "source": [
    "#verificando valores duplicados\n",
    "df.duplicated().sum()"
   ]
  },
  {
   "cell_type": "code",
   "execution_count": 236,
   "metadata": {},
   "outputs": [
    {
     "name": "stdout",
     "output_type": "stream",
     "text": [
      "Não há espaçamento nos dados.\n"
     ]
    }
   ],
   "source": [
    "#verificando ocorrência de espaçamentos\n",
    "espacamento_encontrado = False\n",
    "\n",
    "for column in df.columns:\n",
    "    for index, value in df[column].items():\n",
    "        if isinstance(value, str) and value.isspace():\n",
    "            print(f'Espaçamento encontrado na coluna \"{column}\", linha {index}.')\n",
    "            espacamento_encontrado = True\n",
    "\n",
    "if not espacamento_encontrado:\n",
    "    print('Não há espaçamento nos dados.')"
   ]
  },
  {
   "cell_type": "code",
   "execution_count": 237,
   "metadata": {},
   "outputs": [
    {
     "data": {
      "text/plain": [
       "Index(['data', 'ultimo', 'abertura', 'maxima', 'minima', 'volume', 'variacao'], dtype='object')"
      ]
     },
     "execution_count": 237,
     "metadata": {},
     "output_type": "execute_result"
    }
   ],
   "source": [
    "#renomeando colunas\n",
    "df.rename(columns = {\n",
    "    'Data': 'data', \n",
    "    'Último': 'ultimo', \n",
    "    'Abertura': 'abertura', \n",
    "    'Máxima': 'maxima', \n",
    "    'Mínima': 'minima', \n",
    "    'Vol.': 'volume', \n",
    "    'Var%': \n",
    "    'variacao'}, inplace = True)\n",
    "df.columns"
   ]
  },
  {
   "cell_type": "code",
   "execution_count": 238,
   "metadata": {},
   "outputs": [],
   "source": [
    "#alterando tipo da coluna de data\n",
    "df['data'] = df['data'].str.replace('.', '-')\n",
    "df['data'] = pd.to_datetime(df['data'], format='%d-%m-%Y')"
   ]
  },
  {
   "cell_type": "code",
   "execution_count": 239,
   "metadata": {},
   "outputs": [
    {
     "data": {
      "text/html": [
       "<div>\n",
       "<style scoped>\n",
       "    .dataframe tbody tr th:only-of-type {\n",
       "        vertical-align: middle;\n",
       "    }\n",
       "\n",
       "    .dataframe tbody tr th {\n",
       "        vertical-align: top;\n",
       "    }\n",
       "\n",
       "    .dataframe thead th {\n",
       "        text-align: right;\n",
       "    }\n",
       "</style>\n",
       "<table border=\"1\" class=\"dataframe\">\n",
       "  <thead>\n",
       "    <tr style=\"text-align: right;\">\n",
       "      <th></th>\n",
       "      <th>data</th>\n",
       "      <th>ultimo</th>\n",
       "      <th>abertura</th>\n",
       "      <th>maxima</th>\n",
       "      <th>minima</th>\n",
       "      <th>volume</th>\n",
       "      <th>variacao</th>\n",
       "    </tr>\n",
       "  </thead>\n",
       "  <tbody>\n",
       "    <tr>\n",
       "      <th>0</th>\n",
       "      <td>2023-08-08</td>\n",
       "      <td>119.090</td>\n",
       "      <td>119.378</td>\n",
       "      <td>119.553</td>\n",
       "      <td>117.492</td>\n",
       "      <td>10,25M</td>\n",
       "      <td>-0,24%</td>\n",
       "    </tr>\n",
       "    <tr>\n",
       "      <th>1</th>\n",
       "      <td>2023-08-07</td>\n",
       "      <td>119.380</td>\n",
       "      <td>119.509</td>\n",
       "      <td>120.104</td>\n",
       "      <td>118.894</td>\n",
       "      <td>8,73M</td>\n",
       "      <td>-0,11%</td>\n",
       "    </tr>\n",
       "    <tr>\n",
       "      <th>2</th>\n",
       "      <td>2023-08-04</td>\n",
       "      <td>119.508</td>\n",
       "      <td>120.586</td>\n",
       "      <td>121.442</td>\n",
       "      <td>119.215</td>\n",
       "      <td>15,07M</td>\n",
       "      <td>-0,89%</td>\n",
       "    </tr>\n",
       "  </tbody>\n",
       "</table>\n",
       "</div>"
      ],
      "text/plain": [
       "        data   ultimo  abertura   maxima   minima  volume variacao\n",
       "0 2023-08-08  119.090   119.378  119.553  117.492  10,25M   -0,24%\n",
       "1 2023-08-07  119.380   119.509  120.104  118.894   8,73M   -0,11%\n",
       "2 2023-08-04  119.508   120.586  121.442  119.215  15,07M   -0,89%"
      ]
     },
     "execution_count": 239,
     "metadata": {},
     "output_type": "execute_result"
    }
   ],
   "source": [
    "df.head(3)"
   ]
  },
  {
   "cell_type": "code",
   "execution_count": 240,
   "metadata": {},
   "outputs": [
    {
     "name": "stdout",
     "output_type": "stream",
     "text": [
      "<class 'pandas.core.frame.DataFrame'>\n",
      "Index: 2477 entries, 0 to 2477\n",
      "Data columns (total 7 columns):\n",
      " #   Column    Non-Null Count  Dtype         \n",
      "---  ------    --------------  -----         \n",
      " 0   data      2477 non-null   datetime64[ns]\n",
      " 1   ultimo    2477 non-null   float64       \n",
      " 2   abertura  2477 non-null   float64       \n",
      " 3   maxima    2477 non-null   float64       \n",
      " 4   minima    2477 non-null   float64       \n",
      " 5   volume    2477 non-null   object        \n",
      " 6   variacao  2477 non-null   object        \n",
      "dtypes: datetime64[ns](1), float64(4), object(2)\n",
      "memory usage: 154.8+ KB\n"
     ]
    }
   ],
   "source": [
    "df.info()"
   ]
  },
  {
   "cell_type": "code",
   "execution_count": 241,
   "metadata": {},
   "outputs": [
    {
     "data": {
      "text/html": [
       "<div>\n",
       "<style scoped>\n",
       "    .dataframe tbody tr th:only-of-type {\n",
       "        vertical-align: middle;\n",
       "    }\n",
       "\n",
       "    .dataframe tbody tr th {\n",
       "        vertical-align: top;\n",
       "    }\n",
       "\n",
       "    .dataframe thead th {\n",
       "        text-align: right;\n",
       "    }\n",
       "</style>\n",
       "<table border=\"1\" class=\"dataframe\">\n",
       "  <thead>\n",
       "    <tr style=\"text-align: right;\">\n",
       "      <th></th>\n",
       "      <th>ultimo</th>\n",
       "      <th>abertura</th>\n",
       "      <th>maxima</th>\n",
       "      <th>minima</th>\n",
       "      <th>volume</th>\n",
       "      <th>variacao</th>\n",
       "    </tr>\n",
       "    <tr>\n",
       "      <th>data</th>\n",
       "      <th></th>\n",
       "      <th></th>\n",
       "      <th></th>\n",
       "      <th></th>\n",
       "      <th></th>\n",
       "      <th></th>\n",
       "    </tr>\n",
       "  </thead>\n",
       "  <tbody>\n",
       "    <tr>\n",
       "      <th>2023-08-08</th>\n",
       "      <td>119.090</td>\n",
       "      <td>119.378</td>\n",
       "      <td>119.553</td>\n",
       "      <td>117.492</td>\n",
       "      <td>10,25M</td>\n",
       "      <td>-0,24%</td>\n",
       "    </tr>\n",
       "    <tr>\n",
       "      <th>2023-08-07</th>\n",
       "      <td>119.380</td>\n",
       "      <td>119.509</td>\n",
       "      <td>120.104</td>\n",
       "      <td>118.894</td>\n",
       "      <td>8,73M</td>\n",
       "      <td>-0,11%</td>\n",
       "    </tr>\n",
       "    <tr>\n",
       "      <th>2023-08-04</th>\n",
       "      <td>119.508</td>\n",
       "      <td>120.586</td>\n",
       "      <td>121.442</td>\n",
       "      <td>119.215</td>\n",
       "      <td>15,07M</td>\n",
       "      <td>-0,89%</td>\n",
       "    </tr>\n",
       "    <tr>\n",
       "      <th>2023-08-03</th>\n",
       "      <td>120.586</td>\n",
       "      <td>120.859</td>\n",
       "      <td>122.619</td>\n",
       "      <td>120.365</td>\n",
       "      <td>13,03M</td>\n",
       "      <td>-0,23%</td>\n",
       "    </tr>\n",
       "    <tr>\n",
       "      <th>2023-08-02</th>\n",
       "      <td>120.859</td>\n",
       "      <td>121.249</td>\n",
       "      <td>121.252</td>\n",
       "      <td>119.798</td>\n",
       "      <td>10,57M</td>\n",
       "      <td>-0,32%</td>\n",
       "    </tr>\n",
       "  </tbody>\n",
       "</table>\n",
       "</div>"
      ],
      "text/plain": [
       "             ultimo  abertura   maxima   minima  volume variacao\n",
       "data                                                            \n",
       "2023-08-08  119.090   119.378  119.553  117.492  10,25M   -0,24%\n",
       "2023-08-07  119.380   119.509  120.104  118.894   8,73M   -0,11%\n",
       "2023-08-04  119.508   120.586  121.442  119.215  15,07M   -0,89%\n",
       "2023-08-03  120.586   120.859  122.619  120.365  13,03M   -0,23%\n",
       "2023-08-02  120.859   121.249  121.252  119.798  10,57M   -0,32%"
      ]
     },
     "execution_count": 241,
     "metadata": {},
     "output_type": "execute_result"
    }
   ],
   "source": [
    "df.set_index('data', inplace = True)\n",
    "df.head()"
   ]
  }
 ],
 "metadata": {
  "kernelspec": {
   "display_name": "Python 3",
   "language": "python",
   "name": "python3"
  },
  "language_info": {
   "codemirror_mode": {
    "name": "ipython",
    "version": 3
   },
   "file_extension": ".py",
   "mimetype": "text/x-python",
   "name": "python",
   "nbconvert_exporter": "python",
   "pygments_lexer": "ipython3",
   "version": "3.11.4"
  },
  "orig_nbformat": 4
 },
 "nbformat": 4,
 "nbformat_minor": 2
}
